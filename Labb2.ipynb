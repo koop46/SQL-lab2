{
 "cells": [
  {
   "cell_type": "code",
   "execution_count": 1,
   "metadata": {},
   "outputs": [
    {
     "name": "stdout",
     "output_type": "stream",
     "text": [
      "Connecting to database ITHS as user Elev using URL string:\n",
      "mssql+pyodbc://?odbc_connect=DRIVER=ODBC+Driver+17+for+SQL+Server;SERVER=localhost;DATABASE=ITHS;+UID=elev;PWD=ai2023 \n",
      "\n",
      "Elev successfully connected to ITHS!\n"
     ]
    }
   ],
   "source": [
    "from sqlalchemy import create_engine, text\n",
    "from sqlalchemy.engine import URL\n",
    "from urllib.parse import unquote\n",
    "from dotenv import find_dotenv, load_dotenv\n",
    "import os\n",
    "\n",
    "\n",
    "dotenv_path = find_dotenv()\n",
    "load_dotenv(dotenv_path)\n",
    "\n",
    "user_name = os.getenv('USER_NAME')\n",
    "password = os.getenv('USER_PASS')\n",
    "server_name   = \"localhost\"\n",
    "database_name = \"ITHS\"\n",
    "\n",
    "\n",
    "connection_string = f\"DRIVER=ODBC Driver 17 for SQL Server;SERVER={server_name};DATABASE={database_name}; UID={user_name};PWD={password}\"\n",
    "url_string = URL.create(\"mssql+pyodbc\", query={\"odbc_connect\": connection_string})\n",
    "\n",
    "print(f'Connecting to database {database_name} as user {user_name.capitalize()} using URL string:')\n",
    "unquoted_url = unquote(str(url_string))\n",
    "print(unquoted_url, '\\n')\n",
    "\n",
    "try:    \n",
    "    engine = create_engine(url_string)\n",
    "    with engine.connect() as connection:\n",
    "        print(f'{user_name.capitalize()} successfully connected to {database_name}!')\n",
    "except Exception as e:\n",
    "    print('Error while connecting to database:\\n')\n",
    "    print(e)"
   ]
  },
  {
   "cell_type": "code",
   "execution_count": 2,
   "metadata": {},
   "outputs": [
    {
     "name": "stdout",
     "output_type": "stream",
     "text": [
      "Butiksnamn                     Titel                          Antal                          \n",
      "\n",
      "Böcker & oss                   Love in hibernation            5                              \n",
      "Böcker415                      Love in hibernation            3                              \n",
      "Hillevis                       Love in hibernation            1                              \n",
      "Hörnets bokhandel              Love in hibernation            7                              \n",
      "Böcker & oss                   Love in Shadows                6                              \n",
      "Böcker415                      Love in Shadows                0                              \n",
      "Hillevis                       Love in Shadows                3                              \n",
      "Hörnets bokhandel              Love in Shadows                3                              \n"
     ]
    }
   ],
   "source": [
    "\n",
    "def title_search(title):\n",
    "\n",
    "\n",
    "    select_query = text(f\"\"\"\n",
    "    \n",
    "    select Butiksnamn, Titel, Antal from böcker\n",
    "\n",
    "    inner join lagersaldo on lagersaldo.isbn = böcker.isbn13\n",
    "    inner join butiker on butiker.id = lagersaldo.butiksid\n",
    "    where titel like :title + '%'\n",
    "\n",
    "    group by titel, butiksnamn, antal\n",
    "                        \n",
    "    \"\"\")\n",
    "\n",
    "\n",
    "    with engine.connect() as conn:\n",
    "        result = conn.execute(select_query, {\"title\":title})\n",
    "\n",
    "        for col in result.keys():\n",
    "            print(col.ljust(30), end=' ')\n",
    "\n",
    "        print()\n",
    "        print()\n",
    "\n",
    "        for row in result:\n",
    "            for field in row:\n",
    "                print(str(field).ljust(30), end=' ')\n",
    "            \n",
    "            print()\n",
    "\n",
    "\n",
    "title = input(\"Sök på titel\")\n",
    "\n",
    "title_search(title)\n"
   ]
  }
 ],
 "metadata": {
  "kernelspec": {
   "display_name": "Python 3",
   "language": "python",
   "name": "python3"
  },
  "language_info": {
   "codemirror_mode": {
    "name": "ipython",
    "version": 3
   },
   "file_extension": ".py",
   "mimetype": "text/x-python",
   "name": "python",
   "nbconvert_exporter": "python",
   "pygments_lexer": "ipython3",
   "version": "3.11.9"
  }
 },
 "nbformat": 4,
 "nbformat_minor": 2
}
